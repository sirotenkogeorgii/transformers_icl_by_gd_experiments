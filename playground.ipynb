{
 "cells": [
  {
   "cell_type": "code",
   "execution_count": 6,
   "id": "60b69db6",
   "metadata": {},
   "outputs": [
    {
     "data": {
      "text/plain": [
       "torch.Size([64, 100, 4, 32])"
      ]
     },
     "execution_count": 6,
     "metadata": {},
     "output_type": "execute_result"
    }
   ],
   "source": [
    "import torch\n",
    "\n",
    "batch_size = 64\n",
    "sequence_len = 100\n",
    "heads = 4\n",
    "head_dim = 32\n",
    "\n",
    "value_vectors = torch.rand((batch_size, sequence_len, heads, head_dim))\n",
    "attention_weights = torch.rand((batch_size, heads, sequence_len, sequence_len))\n",
    "\n",
    "\n",
    "torch.einsum(\"...htT,...Thd->...thd\", attention_weights, value_vectors).shape\n",
    "            #  \"...htT,...Thd->...thd\""
   ]
  }
 ],
 "metadata": {
  "kernelspec": {
   "display_name": "Python 3",
   "language": "python",
   "name": "python3"
  },
  "language_info": {
   "codemirror_mode": {
    "name": "ipython",
    "version": 3
   },
   "file_extension": ".py",
   "mimetype": "text/x-python",
   "name": "python",
   "nbconvert_exporter": "python",
   "pygments_lexer": "ipython3",
   "version": "3.10.10"
  }
 },
 "nbformat": 4,
 "nbformat_minor": 5
}
